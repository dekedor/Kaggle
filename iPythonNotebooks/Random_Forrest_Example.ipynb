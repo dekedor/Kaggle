{
 "cells": [
  {
   "cell_type": "code",
   "execution_count": 92,
   "metadata": {
    "collapsed": false
   },
   "outputs": [],
   "source": [
    "\"\"\" Writing my first randomforest code.\n",
    "Author : AstroDave\n",
    "Date : 23rd September 2012\n",
    "Revised: 15 April 2014\n",
    "please see packages.python.org/milk/randomforests.html for more\n",
    "\n",
    "\"\"\" \n",
    "import pandas as pd\n",
    "import numpy as np\n",
    "import csv as csv\n",
    "from sklearn.ensemble import RandomForestClassifier\n",
    "from sklearn.linear_model import LogisticRegression\n",
    "import matplotlib.pyplot as plt\n",
    "%matplotlib inline"
   ]
  },
  {
   "cell_type": "code",
   "execution_count": 93,
   "metadata": {
    "collapsed": false,
    "scrolled": true
   },
   "outputs": [],
   "source": [
    "# TRAIN DATA\n",
    "train_df = pd.read_csv('/Users/dekedor/Downloads/train.csv', header=0)        # Load the train file into a dataframe\n",
    "\n",
    "train_df['Gender'] = train_df['Sex'].map( {'female': 0, 'male': 1} ).astype(int)\n",
    "\n",
    "if len(train_df.Embarked[ train_df.Embarked.isnull() ]) > 0:\n",
    "    train_df.loc[ (train_df.Embarked.isnull()) , \\\n",
    "                'Embarked'] = train_df.Embarked.dropna().mode().values\n",
    "\n",
    "Ports = list(enumerate(np.unique(train_df['Embarked'])))    # determine all values of Embarked,\n",
    "Ports_dict = { name : i for i, name in Ports }              # set up a dictionary in the form  Ports : index\n",
    "train_df.Embarked = train_df.Embarked.map( lambda x: Ports_dict[x]).astype(int)     # Convert all Embark strings to int\n",
    "\n",
    "median_age = train_df['Age'].dropna().median()\n",
    "if len(train_df.Age[ train_df.Age.isnull() ]) > 0:\n",
    "    train_df.loc[ (train_df.Age.isnull()), 'Age'] = median_age\n",
    "\n",
    "train_df = train_df.drop(['Name', 'Sex', 'Ticket', 'Cabin', 'PassengerId'], axis=1) "
   ]
  },
  {
   "cell_type": "code",
   "execution_count": 94,
   "metadata": {
    "collapsed": false
   },
   "outputs": [],
   "source": [
    "# TEST DATA\n",
    "test_df = pd.read_csv('/Users/dekedor/Downloads/test.csv', header=0)        # Load the test file into a dataframe\n",
    "\n",
    "test_df['Gender'] = test_df['Sex'].map( {'female': 0, 'male': 1} ).astype(int)\n",
    "\n",
    "if len(test_df.Embarked[ test_df.Embarked.isnull() ]) > 0:\n",
    "    test_df.Embarked[ test_df.Embarked.isnull() ] = test_df.Embarked.dropna().mode().values\n",
    "\n",
    "test_df.Embarked = test_df.Embarked.map( lambda x: Ports_dict[x]).astype(int)\n",
    "\n",
    "# All the ages with no data -> make the median of all Ages\n",
    "median_age = test_df['Age'].dropna().median()\n",
    "if len(test_df.Age[ test_df.Age.isnull() ]) > 0:\n",
    "    test_df.loc[ (test_df.Age.isnull()), 'Age'] = median_age\n",
    "\n",
    "# All the missing Fares -> assume median of their respective class\n",
    "if len(test_df.Fare[ test_df.Fare.isnull() ]) > 0:\n",
    "    median_fare = np.zeros(3)\n",
    "    for f in range(0,3):                                              # loop 0 to 2\n",
    "        median_fare[f] = test_df[ test_df.Pclass == f+1 ]['Fare'].dropna().median()\n",
    "    for f in range(0,3):                                              # loop 0 to 2\n",
    "        test_df.loc[ (test_df.Fare.isnull()) & (test_df.Pclass == f+1 ), 'Fare'] = median_fare[f]"
   ]
  },
  {
   "cell_type": "code",
   "execution_count": 95,
   "metadata": {
    "collapsed": false
   },
   "outputs": [
    {
     "name": "stdout",
     "output_type": "stream",
     "text": [
      "Training...\n",
      "Predicting...\n",
      "Done.\n"
     ]
    }
   ],
   "source": [
    "# Collect the test data's PassengerIds before dropping it\n",
    "ids = test_df['PassengerId'].values\n",
    "# Remove the Name column, Cabin, Ticket, and Sex (since I copied and filled it to Gender)\n",
    "test_df = test_df.drop(['Name', 'Sex', 'Ticket', 'Cabin', 'PassengerId'], axis=1) \n",
    "\n",
    "\n",
    "# The data is now ready to go. So lets fit to the train, then predict to the test!\n",
    "# Convert back to a numpy array\n",
    "train_data = train_df.values\n",
    "test_data = test_df.values\n",
    "\n",
    "print 'Training...'\n",
    "forest = RandomForestClassifier(n_estimators=100)\n",
    "forest = forest.fit( train_data[0::,1::], train_data[0::,0] )\n",
    "\n",
    "print 'Predicting...'\n",
    "output = forest.predict(test_data).astype(int)\n",
    "\n",
    "\n",
    "predictions_file = open(\"/Users/dekedor/Downloads/myfirstforest.csv\", \"wb\")\n",
    "open_file_object = csv.writer(predictions_file)\n",
    "open_file_object.writerow([\"PassengerId\",\"Survived\"])\n",
    "open_file_object.writerows(zip(ids, output))\n",
    "predictions_file.close()\n",
    "print 'Done.'"
   ]
  },
  {
   "cell_type": "code",
   "execution_count": 96,
   "metadata": {
    "collapsed": false
   },
   "outputs": [
    {
     "name": "stdout",
     "output_type": "stream",
     "text": [
      "Training...\n"
     ]
    }
   ],
   "source": [
    "print 'Training...'\n",
    "lr = LogisticRegression()\n",
    "lr = lr.fit( train_data[0::,1::], train_data[0::,0] )"
   ]
  },
  {
   "cell_type": "code",
   "execution_count": 97,
   "metadata": {
    "collapsed": false
   },
   "outputs": [
    {
     "name": "stdout",
     "output_type": "stream",
     "text": [
      "Done.\n",
      "<class 'pandas.core.frame.DataFrame'>\n",
      "Int64Index: 891 entries, 0 to 890\n",
      "Data columns (total 8 columns):\n",
      "Survived    891 non-null int64\n",
      "Pclass      891 non-null int64\n",
      "Age         891 non-null float64\n",
      "SibSp       891 non-null int64\n",
      "Parch       891 non-null int64\n",
      "Fare        891 non-null float64\n",
      "Embarked    891 non-null int64\n",
      "Gender      891 non-null int64\n",
      "dtypes: float64(2), int64(6)\n",
      "memory usage: 62.6 KB\n",
      "None\n"
     ]
    }
   ],
   "source": [
    "predictions_file = open(\"/Users/dekedor/Downloads/lr.csv\", \"wb\")\n",
    "open_file_object = csv.writer(predictions_file)\n",
    "open_file_object.writerow([\"PassengerId\",\"Survived\"])\n",
    "open_file_object.writerows(zip(ids, output))\n",
    "predictions_file.close()\n",
    "print 'Done.'\n",
    "print(train_df.info())"
   ]
  },
  {
   "cell_type": "code",
   "execution_count": 98,
   "metadata": {
    "collapsed": false
   },
   "outputs": [],
   "source": [
    "# let's add quadratic features\n",
    "train_df = train_df.drop(['Embarked', 'Parch', 'SibSp', 'Age'], axis = 1)\n",
    "test_df = test_df.drop(['Embarked', 'Parch', 'SibSp', 'Age'], axis = 1)\n",
    "m = np.shape(train_df)\n",
    "keys = train_df.keys()\n",
    "for i in range(m[1]):\n",
    "    for j in range(i):\n",
    "        if not keys[i] == 'Survived' and \\\n",
    "        not keys[j] == 'Survived':\n",
    "            field = '%s_%s' % (keys[i], keys[j])\n",
    "            train_df[field] = train_df[keys[i]] * train_df[keys[j]]\n",
    "m = np.shape(train_df)\n",
    "keys = train_df.keys()\n",
    "for i in range(m[1]):\n",
    "    for j in range(i):\n",
    "        if not keys[i] == 'Survived' and \\\n",
    "        not keys[j] == 'Survived':\n",
    "            field = '%s_%s' % (keys[i], keys[j])\n",
    "            train_df[field] = train_df[keys[i]] * train_df[keys[j]]\n",
    "m = np.shape(train_df)\n",
    "keys = train_df.keys()\n",
    "for i in range(m[1]):\n",
    "    for j in range(i):\n",
    "        if not keys[i] == 'Survived' and \\\n",
    "        not keys[j] == 'Survived':\n",
    "            field = '%s_%s' % (keys[i], keys[j])\n",
    "            train_df[field] = train_df[keys[i]] * train_df[keys[j]]"
   ]
  },
  {
   "cell_type": "code",
   "execution_count": 101,
   "metadata": {
    "collapsed": false
   },
   "outputs": [
    {
     "data": {
      "image/png": "[encoded data removed]",
      "text/plain": [
       "<matplotlib.figure.Figure at 0x10b826990>"
      ]
     },
     "metadata": {},
     "output_type": "display_data"
    }
   ],
   "source": [
    "# use a small subset for training\n",
    "train_data = train_df.values\n",
    "reg = 1e-35\n",
    "num_trials = 40\n",
    "accuracy = np.zeros(num_trials)\n",
    "regularization = np.zeros(num_trials)\n",
    "for i in range(num_trials):\n",
    "    reg = reg * 2\n",
    "    lr = LogisticRegression(C = reg)\n",
    "    lr = lr.fit(train_data[0:535,1::], train_data[0:535,0])\n",
    "    correct = 0\n",
    "    for j in range(len(train_data[536::, 0])):\n",
    "        correct = correct + np.int64(lr.predict(train_data[j+536][1:]) == train_data[j+536][0])\n",
    "    accuracy[i] = float(correct)/len(train_data[536::, 0])\n",
    "    regularization[i] = reg\n",
    "fig = plt.figure()\n",
    "ax = fig.add_subplot(1,1,1)\n",
    "ax.plot(regularization, accuracy, 'k+')\n",
    "ax.set_xscale('log')"
   ]
  },
  {
   "cell_type": "code",
   "execution_count": 108,
   "metadata": {
    "collapsed": false
   },
   "outputs": [
    {
     "name": "stdout",
     "output_type": "stream",
     "text": [
      "Done.\n"
     ]
    }
   ],
   "source": [
    "lr = LogisticRegression(C = 1e-5)\n",
    "lr = lr.fit(train_data[0:535,1::], train_data[0:535,0])\n",
    "\n",
    "# let's add quadratic features\n",
    "m = np.shape(test_df)\n",
    "keys = test_df.keys()\n",
    "for i in range(m[1]):\n",
    "    for j in range(i):\n",
    "        if not keys[i] == 'Survived' and \\\n",
    "        not keys[j] == 'Survived':\n",
    "            field = '%s_%s' % (keys[i], keys[j])\n",
    "            test_df[field] = test_df[keys[i]] * test_df[keys[j]]\n",
    "\n",
    "# let's add quadratic features\n",
    "m = np.shape(test_df)\n",
    "keys = test_df.keys()\n",
    "for i in range(m[1]):\n",
    "    for j in range(i):\n",
    "        if not keys[i] == 'Survived' and \\\n",
    "        not keys[j] == 'Survived':\n",
    "            field = '%s_%s' % (keys[i], keys[j])\n",
    "            test_df[field] = test_df[keys[i]] * test_df[keys[j]]\n",
    "            \n",
    "test_data = test_df.values\n",
    "            \n",
    "output = lr.predict(test_data).astype(int)\n",
    "predictions_file = open(\"/Users/dekedor/Downloads/lr.csv\", \"wb\")\n",
    "open_file_object = csv.writer(predictions_file)\n",
    "open_file_object.writerow([\"PassengerId\",\"Survived\"])\n",
    "open_file_object.writerows(zip(ids, output))\n",
    "predictions_file.close()\n",
    "print 'Done.'"
   ]
  },
  {
   "cell_type": "code",
   "execution_count": null,
   "metadata": {
    "collapsed": true
   },
   "outputs": [],
   "source": []
  }
 ],
 "metadata": {
  "kernelspec": {
   "display_name": "Python 2",
   "language": "python",
   "name": "python2"
  },
  "language_info": {
   "codemirror_mode": {
    "name": "ipython",
    "version": 2
   },
   "file_extension": ".py",
   "mimetype": "text/x-python",
   "name": "python",
   "nbconvert_exporter": "python",
   "pygments_lexer": "ipython2",
   "version": "2.7.10"
  }
 },
 "nbformat": 4,
 "nbformat_minor": 0
}
