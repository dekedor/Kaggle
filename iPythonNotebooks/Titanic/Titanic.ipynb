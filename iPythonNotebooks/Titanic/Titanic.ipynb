{
 "cells": [
  {
   "cell_type": "code",
   "execution_count": 156,
   "metadata": {
    "collapsed": false
   },
   "outputs": [],
   "source": [
    "import csv\n",
    "import numpy as np\n",
    "import LogisticRegression\n",
    "import matplotlib.pyplot as plt\n",
    "from mpl_toolkits.mplot3d import Axes3D\n",
    "from matplotlib import cm\n",
    "from matplotlib.ticker import LinearLocator, FormatStrFormatter\n",
    "from scipy.optimize import minimize\n",
    "from sklearn import svm\n",
    "from sklearn import datasets\n",
    "from sklearn.naive_bayes import GaussianNB\n",
    "from sklearn.linear_model import LogisticRegression as LR\n",
    "from sklearn.ensemble import RandomForestClassifier\n",
    "from sklearn.calibration import calibration_curve\n",
    "from sklearn.lda import LDA\n",
    "%matplotlib inline"
   ]
  },
  {
   "cell_type": "code",
   "execution_count": 157,
   "metadata": {
    "collapsed": false
   },
   "outputs": [],
   "source": [
    "record = csv.reader(open('/Users/dekedor/Downloads/train.csv', 'r'), delimiter = ',')\n",
    "data_array = []\n",
    "for row in record:\n",
    "    data_array.append(row)\n",
    "data_array = np.array(data_array)"
   ]
  },
  {
   "cell_type": "code",
   "execution_count": 158,
   "metadata": {
    "collapsed": false
   },
   "outputs": [],
   "source": [
    "data = {}\n",
    "index = 0\n",
    "for field in data_array[0][:]:\n",
    "    data[field] = []\n",
    "    data[field] = data_array[1:, index]\n",
    "    index = index + 1"
   ]
  },
  {
   "cell_type": "code",
   "execution_count": 159,
   "metadata": {
    "collapsed": false
   },
   "outputs": [],
   "source": [
    "features = {}\n",
    "features['Age'] = np.array([x if x < 1000 else -1 for x in data['Age']], dtype = int)\n",
    "features['hasAge'] = np.array([1 if x < 1000 else 0 for x in data['Age']], dtype = int)\n",
    "features['hasCabin'] = np.array([1 if len(x) > 0 else 0 for x in data['Cabin']], dtype = int)\n",
    "features['Cherbourg'] = np.array([1 if x == 'C' else 0 for x in data['Embarked']], dtype = int)\n",
    "features['Queenstown'] = np.array([1 if x == 'Q' else 0 for x in data['Embarked']], dtype = int)\n",
    "features['Southampton'] = np.array([1 if x == 'S' else 0 for x in data['Embarked']], dtype = int)\n",
    "features['Fare'] = np.array(data['Fare'], dtype=float)\n",
    "features['ParentsChildren'] = np.array(data['Parch'], dtype=int)\n",
    "features['SiblingsSpouses'] = np.array(data['SibSp'], dtype=int)\n",
    "features['isMale'] = np.array([1 if x == 'male' else 0 for x in data['Sex']], dtype = int)\n",
    "features['isFemale'] = np.array([1 if x == 'female' else 0 for x in data['Sex']], dtype = int)\n",
    "features['isUpper'] = np.array([1 if x == '1' else 0 for x in data['Pclass']], dtype = int)\n",
    "features['isMiddle'] = np.array([1 if x == '2' else 0 for x in data['Pclass']], dtype = int)\n",
    "features['isLower'] = np.array([1 if x == '3' else 0 for x in data['Pclass']], dtype = int)"
   ]
  },
  {
   "cell_type": "code",
   "execution_count": 160,
   "metadata": {
    "collapsed": false
   },
   "outputs": [],
   "source": [
    "result = np.array(data['Survived'], dtype = int)"
   ]
  },
  {
   "cell_type": "code",
   "execution_count": 161,
   "metadata": {
    "collapsed": false,
    "scrolled": true
   },
   "outputs": [],
   "source": [
    "input = np.array([np.ones(np.shape(features['isMale'])), features['isMale']])\n",
    "#input = np.array([np.ones(np.shape(features['isMale'])), features['isMale'], features['hasCabin'],\\\n",
    "#                  features['Southampton'], features['Cherbourg'], features['Queenstown'], features['isUpper'],\\\n",
    "#                  features['isMiddle'], features['isLower'], features['hasCabin']])\n",
    "m = np.shape(input)"
   ]
  },
  {
   "cell_type": "code",
   "execution_count": 162,
   "metadata": {
    "collapsed": false
   },
   "outputs": [],
   "source": [
    "for i in range(m[0]):\n",
    "    if i > 0:\n",
    "        mu = np.mean(input[i])\n",
    "        sigma = np.std(input[i])\n",
    "        input[i] = (input[i] - mu)/ sigma"
   ]
  },
  {
   "cell_type": "code",
   "execution_count": null,
   "metadata": {
    "collapsed": false
   },
   "outputs": [],
   "source": []
  },
  {
   "cell_type": "code",
   "execution_count": 163,
   "metadata": {
    "collapsed": false
   },
   "outputs": [],
   "source": [
    "theta = np.random.rand(m[0])*.1 - .05\n",
    "alpha = .01\n",
    "num_iter = 3\n",
    "cost_array = np.zeros(num_iter)\n",
    "for i in range(num_iter):\n",
    "    for j in range(len(theta)):\n",
    "        for k in range(m[1]):\n",
    "            theta[j] = theta[j] - (alpha / m[1]) *\\\n",
    "            (LogisticRegression.sigmoid(np.sum(input[:, k] * theta)) - result[k]) * input[j][k]\n",
    "    cost_array[i] = LogisticRegression.costFunction(input, theta, result)"
   ]
  },
  {
   "cell_type": "code",
   "execution_count": 164,
   "metadata": {
    "collapsed": false
   },
   "outputs": [
    {
     "name": "stdout",
     "output_type": "stream",
     "text": [
      "[-0.00324743 -0.04463628]\n"
     ]
    },
    {
     "data": {
      "image/png": "[encoded data removed]",
      "text/plain": [
       "<matplotlib.figure.Figure at 0x108fc30d0>"
      ]
     },
     "metadata": {},
     "output_type": "display_data"
    }
   ],
   "source": [
    "learning = plt.figure()\n",
    "plt.plot(np.linspace(0, num_iter, num = num_iter), cost_array, 'k-')\n",
    "print(theta)"
   ]
  },
  {
   "cell_type": "code",
   "execution_count": 165,
   "metadata": {
    "collapsed": false
   },
   "outputs": [],
   "source": [
    "def f_der(input, theta, result):\n",
    "    grad = np.zeros(len(theta))\n",
    "    for j in range(len(theta)):\n",
    "        for k in range(m[1]):\n",
    "            grad[j] = grad[j] + (1 / m[1]) *\\\n",
    "            (LogisticRegression.sigmoid(np.sum(input[:, k] * theta)) - result[k]) * input[j][k]\n",
    "            \n",
    "der = lambda x: f_der(input, x, result)"
   ]
  },
  {
   "cell_type": "code",
   "execution_count": 166,
   "metadata": {
    "collapsed": false
   },
   "outputs": [
    {
     "name": "stdout",
     "output_type": "stream",
     "text": [
      "Optimization terminated successfully.\n",
      "         Current function value: 458.901962\n",
      "         Iterations: 85\n",
      "         Function evaluations: 166\n"
     ]
    }
   ],
   "source": [
    "f = lambda x: LogisticRegression.costFunction(input, x, result)\n",
    "theta0 = np.random.rand(m[0])*.1 - .05\n",
    "res = minimize(f, theta0, method='nelder-mead', options={'xtol': 1e-8, 'disp': True, 'maxfev' : 10000})\n",
    "theta = res['x']"
   ]
  },
  {
   "cell_type": "code",
   "execution_count": 167,
   "metadata": {
    "collapsed": false
   },
   "outputs": [
    {
     "name": "stdout",
     "output_type": "stream",
     "text": [
      "0.786756453423\n"
     ]
    }
   ],
   "source": [
    "correct = 0\n",
    "for i in range(m[1]):\n",
    "    if LogisticRegression.sigmoid(np.sum(input[:, i] * theta)) > .5 and result[i] == 1:\n",
    "        correct = correct + 1\n",
    "    elif LogisticRegression.sigmoid(np.sum(input[:, i] * theta)) < .5 and result[i] == 0:\n",
    "        correct = correct + 1\n",
    "        \n",
    "print(float(correct)/float(m[1]))"
   ]
  },
  {
   "cell_type": "code",
   "execution_count": 168,
   "metadata": {
    "collapsed": false
   },
   "outputs": [
    {
     "data": {
      "text/plain": [
       "SVC(C=1e-05, cache_size=200, class_weight=None, coef0=0.0, degree=3,\n",
       "  gamma=1.0, kernel='rbf', max_iter=-1, probability=False,\n",
       "  random_state=None, shrinking=True, tol=0.001, verbose=False)"
      ]
     },
     "execution_count": 168,
     "metadata": {},
     "output_type": "execute_result"
    }
   ],
   "source": [
    "clf = svm.SVC(C=.00001, kernel = 'rbf', gamma = 1.0)\n",
    "svm_input = np.reshape(input, (m[1], m[0]))\n",
    "clf.fit(svm_input, result)"
   ]
  },
  {
   "cell_type": "code",
   "execution_count": 169,
   "metadata": {
    "collapsed": false
   },
   "outputs": [
    {
     "name": "stdout",
     "output_type": "stream",
     "text": [
      "0.616161616162\n"
     ]
    }
   ],
   "source": [
    "correct = 0\n",
    "for i in range(m[1]):\n",
    "    if clf.predict(input[:, i]) == result[i]:\n",
    "        correct = correct + 1\n",
    "        \n",
    "print(float(correct)/float(m[1]))"
   ]
  },
  {
   "cell_type": "code",
   "execution_count": 170,
   "metadata": {
    "collapsed": false
   },
   "outputs": [
    {
     "data": {
      "text/plain": [
       "LogisticRegression(C=10000, class_weight=None, dual=False, fit_intercept=True,\n",
       "          intercept_scaling=1, max_iter=100, multi_class='ovr',\n",
       "          penalty='l2', random_state=None, solver='liblinear', tol=0.0001,\n",
       "          verbose=0)"
      ]
     },
     "execution_count": 170,
     "metadata": {},
     "output_type": "execute_result"
    }
   ],
   "source": [
    "lr = LR(C = 10000)\n",
    "lr.fit(svm_input, result)"
   ]
  },
  {
   "cell_type": "code",
   "execution_count": 171,
   "metadata": {
    "collapsed": false
   },
   "outputs": [
    {
     "name": "stdout",
     "output_type": "stream",
     "text": [
      "0.616161616162\n"
     ]
    }
   ],
   "source": [
    "correct = 0\n",
    "for i in range(m[1]):\n",
    "    if lr.predict(input[:, i]) == result[i]:\n",
    "        correct = correct + 1\n",
    "        \n",
    "print(float(correct)/float(m[1]))"
   ]
  },
  {
   "cell_type": "code",
   "execution_count": 172,
   "metadata": {
    "collapsed": false
   },
   "outputs": [
    {
     "data": {
      "text/plain": [
       "LDA(n_components=None, priors=None, shrinkage='auto', solver='eigen',\n",
       "  store_covariance=False, tol=0.0001)"
      ]
     },
     "execution_count": 172,
     "metadata": {},
     "output_type": "execute_result"
    }
   ],
   "source": [
    "lda_fit = LDA(shrinkage='auto', solver='eigen')\n",
    "lda_fit.fit(svm_input, result)"
   ]
  },
  {
   "cell_type": "code",
   "execution_count": 173,
   "metadata": {
    "collapsed": false
   },
   "outputs": [
    {
     "name": "stdout",
     "output_type": "stream",
     "text": [
      "0.616161616162\n"
     ]
    }
   ],
   "source": [
    "correct = 0\n",
    "for i in range(m[1]):\n",
    "    if lda_fit.predict(input[:, i]) == result[i]:\n",
    "        correct = correct + 1\n",
    "        \n",
    "print(float(correct)/float(m[1]))"
   ]
  },
  {
   "cell_type": "code",
   "execution_count": 175,
   "metadata": {
    "collapsed": false
   },
   "outputs": [
    {
     "name": "stdout",
     "output_type": "stream",
     "text": [
      "(577, 109, 0.18890814558058924)\n",
      "(314, 233, 0.7420382165605095)\n"
     ]
    }
   ],
   "source": [
    "num_men = np.sum(features['isMale'])\n",
    "num_women = np.sum(features['isFemale'])\n",
    "num_men_suvived = np.sum(features['isMale']*result)\n",
    "num_women_suvived = np.sum(features['isFemale']*result)\n",
    "print(num_men, num_men_suvived, float(num_men_suvived)/num_men)\n",
    "print(num_women, num_women_suvived, float(num_women_suvived)/num_women)"
   ]
  },
  {
   "cell_type": "code",
   "execution_count": null,
   "metadata": {
    "collapsed": true
   },
   "outputs": [],
   "source": []
  }
 ],
 "metadata": {
  "kernelspec": {
   "display_name": "Python 2",
   "language": "python",
   "name": "python2"
  }
 },
 "nbformat": 4,
 "nbformat_minor": 0
}
