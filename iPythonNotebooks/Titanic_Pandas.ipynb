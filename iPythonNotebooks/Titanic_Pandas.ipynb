{
 "cells": [
  {
   "cell_type": "code",
   "execution_count": 1,
   "metadata": {
    "collapsed": true
   },
   "outputs": [],
   "source": [
    "import csv\n",
    "import numpy as np\n",
    "import matplotlib.pyplot as plt\n",
    "from mpl_toolkits.mplot3d import Axes3D\n",
    "from matplotlib import cm\n",
    "from matplotlib.ticker import LinearLocator, FormatStrFormatter\n",
    "from scipy.optimize import minimize\n",
    "from sklearn import svm\n",
    "from sklearn import datasets\n",
    "from sklearn.naive_bayes import GaussianNB\n",
    "from sklearn.linear_model import LogisticRegression as LR\n",
    "from sklearn.ensemble import RandomForestClassifier\n",
    "from sklearn.lda import LDA\n",
    "import pandas as pd\n",
    "%matplotlib inline"
   ]
  },
  {
   "cell_type": "code",
   "execution_count": 4,
   "metadata": {
    "collapsed": false
   },
   "outputs": [],
   "source": [
    "df = pd.read_csv('/Users/dekedor/Downloads/train.csv', header=0)\n",
    "#df.Survived.hist()\n",
    "df['Gender'] = df['Sex'].map( {'female': 0, 'male': 1} ).astype(float)\n",
    "median_ages = np.zeros((2, 3))\n",
    "median_fares = np.zeros((2, 3))\n",
    "for i in range(2):\n",
    "    for j in range(3):\n",
    "        median_ages[i,j] = df[(df['Gender'] == i) & \\\n",
    "                              (df['Pclass'] == j+1)]['Age'].dropna().median()\n",
    "        median_fares[i,j] = df[(df['Gender'] == i) & \\\n",
    "                              (df['Pclass'] == j+1)]['Fare'].dropna().median()\n",
    " \n",
    "df['AgeFill'] = df['Age']\n",
    "for i in range(0, 2):\n",
    "    for j in range(0, 3):\n",
    "        df.loc[ (df.Age.isnull()) & (df.Gender == i) & (df.Pclass == j+1),\\\n",
    "                'AgeFill'] = median_ages[i,j]\n",
    "        \n",
    "df['Cheerburg'] = np.float64(df['Embarked'] == 'C')\n",
    "df['Queenstown'] = np.float64(df['Embarked'] == 'Q')\n",
    "df['South Hampton'] = np.float64(df['Embarked'] == 'S')\n",
    "df['hasCabin'] = np.float64(df['Cabin'] == df['Cabin'])\n",
    "df['PassengerId'] = np.float64(df['PassengerId'])\n",
    "df['Survived'] = np.float64(df['Survived'])\n",
    "df['Pclass'] = np.float64(df['Pclass'])\n",
    "df['SibSp'] = np.float64(df['SibSp'])\n",
    "df['Parch'] = np.float64(df['Parch'])\n",
    "df = df.drop(['Name', 'Sex', 'Ticket', 'Cabin', 'Embarked', 'Age', 'PassengerId'], axis=1) \n",
    "m = np.shape(df['Survived'])\n",
    "train_data = np.reshape(df['Survived'], (max(m)), min(m)) \n",
    "for key in df.keys():\n",
    "    if not key == 'Survived':\n",
    "        train_data = np.vstack((train_data, df[key]))\n",
    "train_data = np.transpose(train_data)"
   ]
  },
  {
   "cell_type": "code",
   "execution_count": 5,
   "metadata": {
    "collapsed": false
   },
   "outputs": [
    {
     "data": {
      "text/plain": [
       "0.9854096520763187"
      ]
     },
     "execution_count": 5,
     "metadata": {},
     "output_type": "execute_result"
    }
   ],
   "source": [
    "forest = RandomForestClassifier(n_estimators = 100)\n",
    "#m = np.shape(train_data)\n",
    "#train_data = np.reshape(train_data, (max(m), min(m)))\n",
    "forest = forest.fit(train_data[:, 1:], train_data[:, 0])\n",
    "correct = 0\n",
    "for i in range(len(train_data[:, 0])):\n",
    "    correct = correct + np.int64(forest.predict(train_data[i][1:]) == train_data[i][0])\n",
    "\n",
    "float(correct)/len(train_data[:, 0])"
   ]
  },
  {
   "cell_type": "code",
   "execution_count": 6,
   "metadata": {
    "collapsed": false
   },
   "outputs": [
    {
     "data": {
      "text/plain": [
       "0.813692480359147"
      ]
     },
     "execution_count": 6,
     "metadata": {},
     "output_type": "execute_result"
    }
   ],
   "source": [
    "lr = LR(C=100)\n",
    "lr = lr.fit(train_data[:, 1:], train_data[:, 0])\n",
    "correct = 0\n",
    "for i in range(len(train_data[:, 0])):\n",
    "    correct = correct + np.int64(lr.predict(train_data[i][1:]) == train_data[i][0])\n",
    "\n",
    "float(correct)/len(train_data[:, 0])"
   ]
  },
  {
   "cell_type": "code",
   "execution_count": 7,
   "metadata": {
    "collapsed": false
   },
   "outputs": [],
   "source": [
    "df_test = pd.read_csv('/Users/dekedor/Downloads/test.csv', header=0)\n",
    "\n",
    "df_test['Gender'] = df_test['Sex'].map( {'female': 0, 'male': 1} ).astype(float)\n",
    "df_test['AgeFill'] = df_test['Age']\n",
    "df_test['FareFill'] = df_test['Fare']\n",
    "for i in range(0, 2):\n",
    "    for j in range(0, 3):\n",
    "        df_test.loc[ (df_test.Age.isnull()) & (df_test.Gender == i) & (df_test.Pclass == j+1),\\\n",
    "                'AgeFill'] = median_ages[i,j]\n",
    "        df_test.loc[ (df_test.Fare.isnull()) & (df_test.Gender == i) & (df_test.Pclass == j+1),\\\n",
    "                'FareFill'] = median_ages[i,j]\n",
    "\n",
    "df_test['Cheerburg'] = np.float64(df_test['Embarked'] == 'C')\n",
    "df_test['Queenstown'] = np.float64(df_test['Embarked'] == 'Q')\n",
    "df_test['South Hampton'] = np.float64(df_test['Embarked'] == 'S')\n",
    "df_test['hasCabin'] = np.float64(df_test['Cabin'] == df_test['Cabin'])\n",
    "df_test['PassengerId'] = np.float64(df_test['PassengerId'])\n",
    "df_test['Pclass'] = np.float64(df_test['Pclass'])\n",
    "df_test['SibSp'] = np.float64(df_test['SibSp'])\n",
    "df_test['Parch'] = np.float64(df_test['Parch'])\n",
    "passengerID = df_test['PassengerId']\n",
    "df_test = df_test.drop(['Name', 'Sex', 'Ticket', 'Cabin', 'Embarked', 'Age', 'PassengerId', 'Fare'], axis=1) \n",
    "\n",
    "test_data = df_test['Pclass']\n",
    "for key in df_test.keys():\n",
    "    if not key == 'Pclass':\n",
    "        test_data = np.vstack((test_data, df_test[key]))"
   ]
  },
  {
   "cell_type": "code",
   "execution_count": 8,
   "metadata": {
    "collapsed": false
   },
   "outputs": [],
   "source": [
    "m = np.shape(test_data)\n",
    "test_data = np.reshape(test_data, (max(m), min(m)))\n",
    "test_prediction = np.zeros(max(m))\n",
    "for i in range(max(m)):\n",
    "    test_prediction[i] = np.int64(forest.predict(test_data[i][:]))\n",
    "test_prediction = np.vstack((passengerID, test_prediction))\n",
    "test_prediction = np.transpose(test_prediction)\n",
    "test_prediction = np.int64(test_prediction)"
   ]
  },
  {
   "cell_type": "code",
   "execution_count": 9,
   "metadata": {
    "collapsed": false
   },
   "outputs": [],
   "source": [
    "np.savetxt('/Users/dekedor/Downloads/predictions.csv', test_prediction, delimiter=',' \\\n",
    "           , header='PassengerId,Survived', fmt = '%d')"
   ]
  },
  {
   "cell_type": "code",
   "execution_count": 11,
   "metadata": {
    "collapsed": false
   },
   "outputs": [
    {
     "data": {
      "text/plain": [
       "534.6"
      ]
     },
     "execution_count": 11,
     "metadata": {},
     "output_type": "execute_result"
    }
   ],
   "source": [
    "np.shape(train_data)\n",
    "891*.6"
   ]
  },
  {
   "cell_type": "code",
   "execution_count": null,
   "metadata": {
    "collapsed": true
   },
   "outputs": [],
   "source": []
  }
 ],
 "metadata": {
  "kernelspec": {
   "display_name": "Python 2",
   "language": "python",
   "name": "python2"
  },
  "language_info": {
   "codemirror_mode": {
    "name": "ipython",
    "version": 2
   },
   "file_extension": ".py",
   "mimetype": "text/x-python",
   "name": "python",
   "nbconvert_exporter": "python",
   "pygments_lexer": "ipython2",
   "version": "2.7.10"
  }
 },
 "nbformat": 4,
 "nbformat_minor": 0
}
